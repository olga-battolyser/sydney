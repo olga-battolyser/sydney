{
 "cells": [
  {
   "cell_type": "code",
   "execution_count": null,
   "id": "08171fba",
   "metadata": {},
   "outputs": [],
   "source": [
    "from sydney import SydneyClient\n",
    "import textract\n",
    "import re\n",
    "import numpy as np\n",
    "from IPython.display import display, Markdown, HTML\n",
    "import json\n",
    "import time"
   ]
  },
  {
   "cell_type": "code",
   "execution_count": null,
   "id": "3fa17bdf",
   "metadata": {},
   "outputs": [],
   "source": [
    "# Copy cookie from `create?BundleVersion` request to BING_COOKIES envar to enable authentication\n",
    "sydney = SydneyClient(style=\"precise\")"
   ]
  },
  {
   "cell_type": "code",
   "execution_count": null,
   "id": "dd73880c",
   "metadata": {},
   "outputs": [],
   "source": [
    "# [Optional] Test connection\n",
    "await sydney.start_conversation()\n",
    "res = await sydney.ask(\"What is H2ckathon? Respond in 1 sentence.\")\n",
    "print(res)\n",
    "await sydney.close_conversation()"
   ]
  },
  {
   "cell_type": "code",
   "execution_count": null,
   "id": "c67c87cf",
   "metadata": {},
   "outputs": [],
   "source": [
    "# Get input; use `ln -s` to symlink files from Windows to /data or copy\n",
    "filepath = \"data/h2ckathon_transcript_session_1.docx\"\n",
    "# filepath = \"data/h2ckathon_transcript_session_2_part_1.docx\"\n",
    "# filepath = \"data/h2ckathon_transcript_session_2_part_2.docx\"\n",
    "# filepath = \"data/h2ckathon_transcript_session_3_part_1.docx\"  # modelling\n",
    "# filepath = \"data/h2ckathon_transcript_session_3_part_2.docx\"  # discussion\n",
    "doc = textract.process(filepath).decode(\"utf-8\")"
   ]
  },
  {
   "cell_type": "code",
   "execution_count": null,
   "id": "3af6123a",
   "metadata": {},
   "outputs": [],
   "source": [
    "len(doc)"
   ]
  },
  {
   "cell_type": "code",
   "execution_count": null,
   "id": "24303c0e",
   "metadata": {},
   "outputs": [],
   "source": [
    "# Remove timestamps\n",
    "doc = re.sub(r'\\d+:\\d+\\n', '', doc)\n",
    "# Replace multiple line breaks with a single one\n",
    "doc = re.sub(r'\\n+', '\\n', doc)"
   ]
  },
  {
   "cell_type": "code",
   "execution_count": null,
   "id": "bdedb40e",
   "metadata": {},
   "outputs": [],
   "source": [
    "len(doc), round(len(doc) / 18000, 2)"
   ]
  },
  {
   "cell_type": "code",
   "execution_count": null,
   "id": "de2e2b2a",
   "metadata": {},
   "outputs": [],
   "source": [
    "# separate document lines into chunks; this is because of the limit of 18k characters per query\n",
    "# split by line break, then sort to chunks, then put chunks back together\n",
    "n_chunks = 10\n",
    "doc_chunks = [\"\\n\".join(chunk) for chunk in np.array_split(doc.split(\"\\n\"), n_chunks)]"
   ]
  },
  {
   "cell_type": "code",
   "execution_count": null,
   "id": "6b74a1c4",
   "metadata": {},
   "outputs": [],
   "source": [
    "# verify each chunk is < 18k characters\n",
    "[len(chunk) for chunk in doc_chunks]"
   ]
  },
  {
   "cell_type": "markdown",
   "id": "8d43338d",
   "metadata": {},
   "source": [
    "# 1. Summarise the text into bullet points"
   ]
  },
  {
   "cell_type": "code",
   "execution_count": null,
   "id": "1abe7fe6",
   "metadata": {},
   "outputs": [],
   "source": [
    "i = 1"
   ]
  },
  {
   "cell_type": "code",
   "execution_count": null,
   "id": "2814a1f9",
   "metadata": {},
   "outputs": [],
   "source": [
    "context = \"\"\"\n",
    "We believe that relying solely on round-the-clock electrolyser dispatching is not the ultimate solution, as it won’t be matched by green energy production or low prices. That's why we gathered industry leaders in 3 roundtable sessions to share insights, align on best practices, and shape open-source proceedings that will drive progress across the sector.\n",
    "\"\"\"\n",
    "query_summary = \"\"\"Given conference description in quotes for context, use part {i} of audio transcript from the conference in backticks to list the main points and subtopics raised during the conference.\n",
    "'{context}'\n",
    "`{transcript}`\n",
    "\"\"\""
   ]
  },
  {
   "cell_type": "code",
   "execution_count": null,
   "id": "c3876c85",
   "metadata": {},
   "outputs": [],
   "source": [
    "await sydney.start_conversation()"
   ]
  },
  {
   "cell_type": "code",
   "execution_count": null,
   "id": "dd46c475",
   "metadata": {},
   "outputs": [],
   "source": [
    "summary = await sydney.ask(query_summary.format(i=i+1, context=context, transcript=doc_chunks[i]), search=False)"
   ]
  },
  {
   "cell_type": "code",
   "execution_count": null,
   "id": "94bf5d3d",
   "metadata": {},
   "outputs": [],
   "source": [
    "summary"
   ]
  },
  {
   "cell_type": "code",
   "execution_count": null,
   "id": "9b7e9b99",
   "metadata": {},
   "outputs": [],
   "source": [
    "display(Markdown(summary))"
   ]
  },
  {
   "cell_type": "code",
   "execution_count": null,
   "id": "66a7fc67",
   "metadata": {},
   "outputs": [],
   "source": [
    "query_format_summary = \"Process the text in backticks into a dictionary. Return as json without line breaks: '{topic: [points]}'.\""
   ]
  },
  {
   "cell_type": "code",
   "execution_count": null,
   "id": "f1c9d5a3-e9f1-4e81-b1ef-d79e719fd1bf",
   "metadata": {},
   "outputs": [],
   "source": [
    "formatted_summary = await sydney.ask(query_format_summary + f\" `{summary}`\", search=False)\n",
    "formatted_summary"
   ]
  },
  {
   "cell_type": "code",
   "execution_count": null,
   "id": "e4a731ce-2112-48b8-a893-d30f9110b248",
   "metadata": {},
   "outputs": [],
   "source": [
    "# formatted_summary = json.loads(re.findall(r'\\{.*?\\}', formatted_summary)[0])\n",
    "formatted_summary = json.loads(\"{\" + re.findall(r'\\{((.|\\s)*?)\\}', formatted_summary)[0][0] + \"}\")\n",
    "formatted_summary"
   ]
  },
  {
   "cell_type": "code",
   "execution_count": null,
   "id": "99512122",
   "metadata": {},
   "outputs": [],
   "source": [
    "# await sydney.close_conversation()"
   ]
  },
  {
   "cell_type": "markdown",
   "id": "16b2469a",
   "metadata": {},
   "source": [
    "# 2. Ask a clarifying question about each bullet point"
   ]
  },
  {
   "cell_type": "code",
   "execution_count": null,
   "id": "6f67f2ce",
   "metadata": {},
   "outputs": [],
   "source": [
    "example_topic = \"Organizational Details\"\n",
    "example_points = [\n",
    "  'Each session started with a short presentation, followed by a discussion and a 10-minute break.',\n",
    "  'The event was recorded for the purpose of creating a transcript.',\n",
    "  'Proceedings from the conference were planned to be published after the third session.',\n",
    "  'Pictures were taken for marketing purposes.']\n",
    "example_response = \"What did the speaker say about the organizational details, such as format, recording and marketing?\""
   ]
  },
  {
   "cell_type": "code",
   "execution_count": null,
   "id": "d09d5a3e",
   "metadata": {},
   "outputs": [],
   "source": [
    "query_format_paper = \" Present the speaker's views in a form of a scientific paper paragraph, removing the speaker's agency (don't mention the speaker or the conference), don't use overly complicated language.\""
   ]
  },
  {
   "cell_type": "code",
   "execution_count": null,
   "id": "65708ec7",
   "metadata": {},
   "outputs": [],
   "source": [
    "# check if the example question gives intended answer\n",
    "res_example = await sydney.ask(example_response + query_format_paper, search=False)\n",
    "res_example"
   ]
  },
  {
   "cell_type": "code",
   "execution_count": null,
   "id": "e35bde57",
   "metadata": {},
   "outputs": [],
   "source": [
    "query_question = \"\"\"Ask a question about the topics given in backtics to better understand what the speaker's standpoint was. Use the example for reference.\n",
    "Example:\n",
    "topic: {example_topic}, points: {example_points}, question: {example_response}\n",
    "Query:\n",
    "`topic: {topic}, points: {points}`\n",
    "\"\"\""
   ]
  },
  {
   "cell_type": "code",
   "execution_count": null,
   "id": "7ef03c7e",
   "metadata": {},
   "outputs": [],
   "source": [
    "topic = \"Assumptions and Scenarios\"\n",
    "points = formatted_summary[topic]"
   ]
  },
  {
   "cell_type": "code",
   "execution_count": null,
   "id": "8ec6c9aa",
   "metadata": {},
   "outputs": [],
   "source": [
    "question = await sydney.ask(query_question.format(example_topic=example_topic, example_points=example_points, example_response=example_response, topic=topic, points=points), search=False)\n",
    "question"
   ]
  },
  {
   "cell_type": "markdown",
   "id": "f038c424",
   "metadata": {},
   "source": [
    "# 3. Respond with clarification in a form of an article paragraph"
   ]
  },
  {
   "cell_type": "code",
   "execution_count": null,
   "id": "eb31475a",
   "metadata": {},
   "outputs": [],
   "source": [
    "answer = await sydney.ask(question.split(\"\\n\\n\")[-1] + query_format_paper, search=False)\n",
    "answer"
   ]
  },
  {
   "cell_type": "code",
   "execution_count": null,
   "id": "0aac2d4e",
   "metadata": {},
   "outputs": [],
   "source": [
    "await sydney.close_conversation()"
   ]
  },
  {
   "cell_type": "markdown",
   "id": "353aaf66",
   "metadata": {},
   "source": [
    "# Automate"
   ]
  },
  {
   "cell_type": "code",
   "execution_count": null,
   "id": "a6a030cf-0725-48f8-ab03-a3d8de24ff4e",
   "metadata": {},
   "outputs": [],
   "source": [
    "# Define queries for presentation transcripts (sessions 1-2)\n",
    "context = \"\"\"\n",
    "We believe that relying solely on round-the-clock electrolyser dispatching is not the ultimate solution, as it won’t be matched by green energy production or low prices. That's why we gathered industry leaders in 3 roundtable sessions to share insights, align on best practices, and shape open-source proceedings that will drive progress across the sector.\n",
    "\"\"\"\n",
    "query_summary = \"\"\"Given conference description in quotes for context, use part {i} of audio transcript from the conference in backticks to list the main points and subtopics raised during the conference.\n",
    "'{context}'\n",
    "`{transcript}`\n",
    "\"\"\"\n",
    "query_format_summary = \"Process the text in backticks into a dictionary. Return as json without line breaks: '{topic: [points]}'.\"\n",
    "example_topic = \"Organizational Details\"\n",
    "example_points = [\n",
    "  'Each session started with a short presentation, followed by a discussion and a 10-minute break.',\n",
    "  'The event was recorded for the purpose of creating a transcript.',\n",
    "  'Proceedings from the conference were planned to be published after the third session.',\n",
    "  'Pictures were taken for marketing purposes.']\n",
    "example_response = \"What did the speaker say about the organizational details, such as format, recording and marketing?\"\n",
    "query_question = \"\"\"Ask a question about the topics given in backtics to better understand what the speaker's standpoint was. Use the example for reference.\n",
    "Example:\n",
    "topic: {example_topic}, points: {example_points}, question: {example_response}\n",
    "Query:\n",
    "`topic: {topic}, points: {points}`\n",
    "\"\"\"\n",
    "query_format_paper = \" Present the speaker's views in a form of a scientific paper paragraph, removing the speaker's agency (don't mention the speaker or the conference), don't use overly complicated language.\""
   ]
  },
  {
   "cell_type": "code",
   "execution_count": null,
   "id": "ba843b21-bb6c-4049-899a-b40ee2ca5188",
   "metadata": {},
   "outputs": [],
   "source": [
    "# Modify for discussion transcripts (session 3)\n",
    "query_summary = \"\"\"\n",
    "Given conference description in quotes for context, use part {i} of audio transcript from the conference in backticks to list the main points and subtopics raised during the conference. For each topic, label subtopics by whether they were raised by the presenter or the audience. Make sure to include discussions between presenter and the audience, and both sides of disagreements.\n",
    "'{context}'\n",
    "`{transcript}`\n",
    "\"\"\"\n",
    "query_format_summary = \"Process the text in backticks into a dictionary. Return as json without line breaks: '{topic: [points]}'. Ignore the split to presenter, audience, disagreements.\"\n",
    "example_topic = \"Discussion on Flexibility\"\n",
    "example_points = [\"The audience engaged in a discussion on the flexibility of the electrolyzer, questioning the practicality of turning it on and off based on electricity prices.\"]\n",
    "example_response = \"What were the audience's concerns about about electrolyser flexibility and what did they say about the practicality of turning it on and off based on electricity prices?\""
   ]
  },
  {
   "cell_type": "code",
   "execution_count": null,
   "id": "010cf812",
   "metadata": {},
   "outputs": [],
   "source": [
    "# 1. Summarise the text into bullet points\n",
    "i = 1\n",
    "await sydney.start_conversation()\n",
    "summary = await sydney.ask(query_summary.format(i=i+1, context=context, transcript=doc_chunks[i]), search=False)\n",
    "display(Markdown(summary))"
   ]
  },
  {
   "cell_type": "code",
   "execution_count": null,
   "id": "308f6adb",
   "metadata": {},
   "outputs": [],
   "source": [
    "# if not satisfied with the summary, close connection and rerun\n",
    "# await sydney.close_conversation()"
   ]
  },
  {
   "cell_type": "code",
   "execution_count": null,
   "id": "c086c637",
   "metadata": {},
   "outputs": [],
   "source": [
    "formatted_summary = await sydney.ask(query_format_summary + f\" `{summary}`\", search=False)\n",
    "formatted_summary = formatted_summary.replace(\"\\n\", \"\")\n",
    "# formatted_summary = json.loads(re.findall(r'\\{.*?\\}', formatted_summary)[0])\n",
    "formatted_summary = json.loads(\"{\" + re.findall(r'\\{((.|\\s)*?)\\}', formatted_summary)[0][0] + \"}\")\n",
    "formatted_summary"
   ]
  },
  {
   "cell_type": "code",
   "execution_count": null,
   "id": "a748e0b8",
   "metadata": {},
   "outputs": [],
   "source": [
    "# 2. Ask a clarifying question about each bullet point\n",
    "# 3. Answer as a paper paragraph\n",
    "paragraphs = {}\n",
    "for topic, points in formatted_summary.items():\n",
    "    # if topic in ['Merit Order of Demand', 'Subsidization', 'Energy Utilization', 'Brainstorming Session', 'Closing Remarks']:\n",
    "        # continue\n",
    "    print(\"processing topic\", topic)\n",
    "    question = await sydney.ask(query_question.format(example_topic=example_topic, example_points=example_points, example_response=example_response, topic=topic, points=points), search=False)\n",
    "    answer = await sydney.ask(question.split(\"\\n\\n\")[-1] + query_format_paper, search=False)\n",
    "    paragraphs[topic] = answer\n",
    "    # avoid captcha\n",
    "    time.sleep(10)"
   ]
  },
  {
   "cell_type": "code",
   "execution_count": null,
   "id": "1f56f408",
   "metadata": {},
   "outputs": [],
   "source": [
    "for t, p in paragraphs.items():\n",
    "    print(t)\n",
    "    print(p)\n",
    "    print(\"\\n\")"
   ]
  },
  {
   "cell_type": "code",
   "execution_count": null,
   "id": "21bba44e",
   "metadata": {},
   "outputs": [],
   "source": [
    "await sydney.close_conversation()"
   ]
  },
  {
   "cell_type": "markdown",
   "id": "6f14f94d-2c1a-4130-a7fb-85113c18e26a",
   "metadata": {},
   "source": [
    "---"
   ]
  }
 ],
 "metadata": {
  "kernelspec": {
   "display_name": "sydney",
   "language": "python",
   "name": "sydney"
  },
  "language_info": {
   "codemirror_mode": {
    "name": "ipython",
    "version": 3
   },
   "file_extension": ".py",
   "mimetype": "text/x-python",
   "name": "python",
   "nbconvert_exporter": "python",
   "pygments_lexer": "ipython3",
   "version": "3.10.12"
  }
 },
 "nbformat": 4,
 "nbformat_minor": 5
}
